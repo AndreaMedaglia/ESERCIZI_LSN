{
 "cells": [
  {
   "cell_type": "markdown",
   "metadata": {},
   "source": [
    "# EXERCISE 11\n",
    "\n"
   ]
  },
  {
   "cell_type": "markdown",
   "metadata": {},
   "source": [
    "## 11.2 \n",
    "$f(x)=4-3x-2x^2+3x^3$ for $x \\in [-1,1]$."
   ]
  },
  {
   "cell_type": "code",
   "execution_count": 34,
   "metadata": {},
   "outputs": [],
   "source": [
    "# target parameters of f(x) = ax^3 + bx^2 + cx + d\n",
    "a = 3\n",
    "b = -2\n",
    "c = -3\n",
    "d = 4"
   ]
  },
  {
   "cell_type": "code",
   "execution_count": 35,
   "metadata": {},
   "outputs": [],
   "source": [
    "import numpy as np\n",
    "\n",
    "# generate training inputs\n",
    "np.random.seed(0)\n",
    "x_train = np.random.uniform(-1, 1, 1000)\n",
    "x_valid = np.random.uniform(-1, 1, 50)\n",
    "x_valid.sort()\n",
    "y_target = a*x_valid**3 + b*x_valid**2 + c*x_valid + d # ideal (target) function\n",
    "\n",
    "sigma = 0.2 # noise standard deviation, for the moment it is absent\n",
    "y_train = np.random.normal(a*x_train**3 + b*x_train**2 + c*x_train + d, sigma) \n",
    "y_valid = np.random.normal(a*x_valid**3 + b*x_valid**2 + c*x_valid + d, sigma)"
   ]
  },
  {
   "cell_type": "code",
   "execution_count": 36,
   "metadata": {},
   "outputs": [
    {
     "data": {
      "image/png": "[encoded data removed]",
      "text/plain": [
       "<Figure size 432x288 with 1 Axes>"
      ]
     },
     "metadata": {},
     "output_type": "display_data"
    }
   ],
   "source": [
    "# plot training and target dataset\n",
    "import matplotlib.pyplot as plt\n",
    "plt.plot(x_valid, y_target)\n",
    "plt.scatter(x_valid, y_valid, color='r')\n",
    "plt.grid(True); plt.show()"
   ]
  },
  {
   "cell_type": "code",
   "execution_count": 37,
   "metadata": {},
   "outputs": [],
   "source": [
    "# compose the NN model\n",
    "import tensorflow as tf\n",
    "from tensorflow import keras\n",
    "\n",
    "from tensorflow.keras.models import Sequential\n",
    "from tensorflow.keras.layers import Dense, Activation\n",
    "from tensorflow.keras import backend as K\n",
    "from tensorflow.keras.utils import get_custom_objects\n",
    "\n",
    "model = tf.keras.Sequential()\n",
    "model.add(Dense(30, input_shape=(1,), activation='elu'))\n",
    "model.add(Dense(15, input_shape=(1,), activation='elu'))\n",
    "model.add(Dense(7, input_shape=(1,), activation='elu'))\n",
    "model.add(Dense(1, input_shape=(1,), activation='elu'))\n",
    "\n",
    "# compile the model choosing optimizer, loss and metrics objects\n",
    "model.compile(optimizer='sgd', loss='mse', metrics=['mse'])"
   ]
  },
  {
   "cell_type": "code",
   "execution_count": 38,
   "metadata": {},
   "outputs": [
    {
     "name": "stdout",
     "output_type": "stream",
     "text": [
      "_________________________________________________________________\n",
      "Layer (type)                 Output Shape              Param #   \n",
      "=================================================================\n",
      "dense_5 (Dense)              (None, 30)                60        \n",
      "_________________________________________________________________\n",
      "dense_6 (Dense)              (None, 15)                465       \n",
      "_________________________________________________________________\n",
      "dense_7 (Dense)              (None, 7)                 112       \n",
      "_________________________________________________________________\n",
      "dense_8 (Dense)              (None, 1)                 8         \n",
      "=================================================================\n",
      "Total params: 645\n",
      "Trainable params: 645\n",
      "Non-trainable params: 0\n",
      "_________________________________________________________________\n"
     ]
    }
   ],
   "source": [
    "# get a summary of our composed model\n",
    "model.summary()"
   ]
  },
  {
   "cell_type": "code",
   "execution_count": 39,
   "metadata": {},
   "outputs": [
    {
     "name": "stdout",
     "output_type": "stream",
     "text": [
      "Train on 1000 samples, validate on 50 samples\n",
      "Epoch 1/50\n",
      "1000/1000 [==============================] - 1s 610us/sample - loss: 2.5439 - mean_squared_error: 2.5439 - val_loss: 0.5974 - val_mean_squared_error: 0.5974\n",
      "Epoch 2/50\n",
      "1000/1000 [==============================] - 0s 54us/sample - loss: 0.4842 - mean_squared_error: 0.4842 - val_loss: 0.5731 - val_mean_squared_error: 0.5731\n",
      "Epoch 3/50\n",
      "1000/1000 [==============================] - 0s 50us/sample - loss: 0.4741 - mean_squared_error: 0.4741 - val_loss: 0.6031 - val_mean_squared_error: 0.6031\n",
      "Epoch 4/50\n",
      "1000/1000 [==============================] - 0s 55us/sample - loss: 0.4615 - mean_squared_error: 0.4615 - val_loss: 0.5603 - val_mean_squared_error: 0.5603\n",
      "Epoch 5/50\n",
      "1000/1000 [==============================] - 0s 62us/sample - loss: 0.4512 - mean_squared_error: 0.4512 - val_loss: 0.5563 - val_mean_squared_error: 0.5563\n",
      "Epoch 6/50\n",
      "1000/1000 [==============================] - 0s 64us/sample - loss: 0.4369 - mean_squared_error: 0.4369 - val_loss: 0.5682 - val_mean_squared_error: 0.5682\n",
      "Epoch 7/50\n",
      "1000/1000 [==============================] - 0s 69us/sample - loss: 0.4259 - mean_squared_error: 0.4259 - val_loss: 0.5154 - val_mean_squared_error: 0.5154\n",
      "Epoch 8/50\n",
      "1000/1000 [==============================] - 0s 54us/sample - loss: 0.4081 - mean_squared_error: 0.4081 - val_loss: 0.5200 - val_mean_squared_error: 0.5200\n",
      "Epoch 9/50\n",
      "1000/1000 [==============================] - 0s 62us/sample - loss: 0.3920 - mean_squared_error: 0.3920 - val_loss: 0.4868 - val_mean_squared_error: 0.4868\n",
      "Epoch 10/50\n",
      "1000/1000 [==============================] - 0s 68us/sample - loss: 0.3750 - mean_squared_error: 0.3750 - val_loss: 0.4422 - val_mean_squared_error: 0.4422\n",
      "Epoch 11/50\n",
      "1000/1000 [==============================] - 0s 62us/sample - loss: 0.3554 - mean_squared_error: 0.3554 - val_loss: 0.4261 - val_mean_squared_error: 0.4261\n",
      "Epoch 12/50\n",
      "1000/1000 [==============================] - 0s 62us/sample - loss: 0.3351 - mean_squared_error: 0.3351 - val_loss: 0.4066 - val_mean_squared_error: 0.4066\n",
      "Epoch 13/50\n",
      "1000/1000 [==============================] - ETA: 0s - loss: 0.3207 - mean_squared_error: 0.32 - 0s 69us/sample - loss: 0.3137 - mean_squared_error: 0.3137 - val_loss: 0.4166 - val_mean_squared_error: 0.4166\n",
      "Epoch 14/50\n",
      "1000/1000 [==============================] - 0s 63us/sample - loss: 0.2914 - mean_squared_error: 0.2914 - val_loss: 0.3647 - val_mean_squared_error: 0.3647\n",
      "Epoch 15/50\n",
      "1000/1000 [==============================] - 0s 55us/sample - loss: 0.2686 - mean_squared_error: 0.2686 - val_loss: 0.3238 - val_mean_squared_error: 0.3238\n",
      "Epoch 16/50\n",
      "1000/1000 [==============================] - 0s 69us/sample - loss: 0.2476 - mean_squared_error: 0.2476 - val_loss: 0.3210 - val_mean_squared_error: 0.3210\n",
      "Epoch 17/50\n",
      "1000/1000 [==============================] - 0s 67us/sample - loss: 0.2256 - mean_squared_error: 0.2256 - val_loss: 0.2741 - val_mean_squared_error: 0.2741\n",
      "Epoch 18/50\n",
      "1000/1000 [==============================] - 0s 67us/sample - loss: 0.2041 - mean_squared_error: 0.2041 - val_loss: 0.2381 - val_mean_squared_error: 0.2381\n",
      "Epoch 19/50\n",
      "1000/1000 [==============================] - 0s 63us/sample - loss: 0.1879 - mean_squared_error: 0.1879 - val_loss: 0.2349 - val_mean_squared_error: 0.2349\n",
      "Epoch 20/50\n",
      "1000/1000 [==============================] - 0s 68us/sample - loss: 0.1673 - mean_squared_error: 0.1673 - val_loss: 0.2195 - val_mean_squared_error: 0.2195\n",
      "Epoch 21/50\n",
      "1000/1000 [==============================] - 0s 76us/sample - loss: 0.1535 - mean_squared_error: 0.1535 - val_loss: 0.1948 - val_mean_squared_error: 0.1948\n",
      "Epoch 22/50\n",
      "1000/1000 [==============================] - 0s 65us/sample - loss: 0.1410 - mean_squared_error: 0.1410 - val_loss: 0.1806 - val_mean_squared_error: 0.1806\n",
      "Epoch 23/50\n",
      "1000/1000 [==============================] - 0s 73us/sample - loss: 0.1284 - mean_squared_error: 0.1284 - val_loss: 0.1665 - val_mean_squared_error: 0.1665\n",
      "Epoch 24/50\n",
      "1000/1000 [==============================] - 0s 74us/sample - loss: 0.1202 - mean_squared_error: 0.1202 - val_loss: 0.1514 - val_mean_squared_error: 0.1514\n",
      "Epoch 25/50\n",
      "1000/1000 [==============================] - 0s 63us/sample - loss: 0.1112 - mean_squared_error: 0.1112 - val_loss: 0.1295 - val_mean_squared_error: 0.1295\n",
      "Epoch 26/50\n",
      "1000/1000 [==============================] - 0s 83us/sample - loss: 0.1038 - mean_squared_error: 0.1038 - val_loss: 0.1358 - val_mean_squared_error: 0.1358\n",
      "Epoch 27/50\n",
      "1000/1000 [==============================] - 0s 66us/sample - loss: 0.0970 - mean_squared_error: 0.0970 - val_loss: 0.1197 - val_mean_squared_error: 0.1197\n",
      "Epoch 28/50\n",
      "1000/1000 [==============================] - 0s 79us/sample - loss: 0.0908 - mean_squared_error: 0.0908 - val_loss: 0.0986 - val_mean_squared_error: 0.0986\n",
      "Epoch 29/50\n",
      "1000/1000 [==============================] - 0s 86us/sample - loss: 0.0863 - mean_squared_error: 0.0863 - val_loss: 0.1086 - val_mean_squared_error: 0.1086\n",
      "Epoch 30/50\n",
      "1000/1000 [==============================] - 0s 74us/sample - loss: 0.0825 - mean_squared_error: 0.0825 - val_loss: 0.1015 - val_mean_squared_error: 0.1015\n",
      "Epoch 31/50\n",
      "1000/1000 [==============================] - 0s 73us/sample - loss: 0.0782 - mean_squared_error: 0.0782 - val_loss: 0.0948 - val_mean_squared_error: 0.0948\n",
      "Epoch 32/50\n",
      "1000/1000 [==============================] - 0s 70us/sample - loss: 0.0763 - mean_squared_error: 0.0763 - val_loss: 0.0952 - val_mean_squared_error: 0.0952\n",
      "Epoch 33/50\n",
      "1000/1000 [==============================] - 0s 65us/sample - loss: 0.0735 - mean_squared_error: 0.0735 - val_loss: 0.0883 - val_mean_squared_error: 0.0883\n",
      "Epoch 34/50\n",
      "1000/1000 [==============================] - 0s 67us/sample - loss: 0.0710 - mean_squared_error: 0.0710 - val_loss: 0.0808 - val_mean_squared_error: 0.0808\n",
      "Epoch 35/50\n",
      "1000/1000 [==============================] - 0s 68us/sample - loss: 0.0691 - mean_squared_error: 0.0691 - val_loss: 0.0742 - val_mean_squared_error: 0.0742\n",
      "Epoch 36/50\n",
      "1000/1000 [==============================] - 0s 101us/sample - loss: 0.0687 - mean_squared_error: 0.0687 - val_loss: 0.0891 - val_mean_squared_error: 0.0891\n",
      "Epoch 37/50\n",
      "1000/1000 [==============================] - 0s 108us/sample - loss: 0.0665 - mean_squared_error: 0.0665 - val_loss: 0.0864 - val_mean_squared_error: 0.0864\n",
      "Epoch 38/50\n",
      "1000/1000 [==============================] - 0s 69us/sample - loss: 0.0651 - mean_squared_error: 0.0651 - val_loss: 0.0696 - val_mean_squared_error: 0.0696\n",
      "Epoch 39/50\n",
      "1000/1000 [==============================] - 0s 71us/sample - loss: 0.0632 - mean_squared_error: 0.0632 - val_loss: 0.0754 - val_mean_squared_error: 0.0754\n",
      "Epoch 40/50\n",
      "1000/1000 [==============================] - 0s 73us/sample - loss: 0.0636 - mean_squared_error: 0.0636 - val_loss: 0.0713 - val_mean_squared_error: 0.0713\n",
      "Epoch 41/50\n",
      "1000/1000 [==============================] - 0s 69us/sample - loss: 0.0618 - mean_squared_error: 0.0618 - val_loss: 0.0670 - val_mean_squared_error: 0.0670\n",
      "Epoch 42/50\n",
      "1000/1000 [==============================] - 0s 53us/sample - loss: 0.0615 - mean_squared_error: 0.0615 - val_loss: 0.0747 - val_mean_squared_error: 0.0747\n",
      "Epoch 43/50\n",
      "1000/1000 [==============================] - 0s 54us/sample - loss: 0.0613 - mean_squared_error: 0.0613 - val_loss: 0.0672 - val_mean_squared_error: 0.0672\n",
      "Epoch 44/50\n",
      "1000/1000 [==============================] - 0s 50us/sample - loss: 0.0614 - mean_squared_error: 0.0614 - val_loss: 0.0680 - val_mean_squared_error: 0.0680\n",
      "Epoch 45/50\n",
      "1000/1000 [==============================] - 0s 49us/sample - loss: 0.0597 - mean_squared_error: 0.0597 - val_loss: 0.0796 - val_mean_squared_error: 0.0796\n",
      "Epoch 46/50\n",
      "1000/1000 [==============================] - 0s 49us/sample - loss: 0.0595 - mean_squared_error: 0.0595 - val_loss: 0.0675 - val_mean_squared_error: 0.0675\n",
      "Epoch 47/50\n",
      "1000/1000 [==============================] - 0s 50us/sample - loss: 0.0595 - mean_squared_error: 0.0595 - val_loss: 0.0670 - val_mean_squared_error: 0.0670\n",
      "Epoch 48/50\n",
      "1000/1000 [==============================] - 0s 61us/sample - loss: 0.0589 - mean_squared_error: 0.0589 - val_loss: 0.0710 - val_mean_squared_error: 0.0710\n",
      "Epoch 49/50\n"
     ]
    },
    {
     "name": "stdout",
     "output_type": "stream",
     "text": [
      "1000/1000 [==============================] - 0s 53us/sample - loss: 0.0587 - mean_squared_error: 0.0587 - val_loss: 0.0667 - val_mean_squared_error: 0.0667\n",
      "Epoch 50/50\n",
      "1000/1000 [==============================] - 0s 50us/sample - loss: 0.0572 - mean_squared_error: 0.0572 - val_loss: 0.0653 - val_mean_squared_error: 0.0653\n"
     ]
    }
   ],
   "source": [
    "# fit the model using training dataset\n",
    "# over 10 epochs of 32 batch size each\n",
    "# report training progress against validation data\n",
    "history = model.fit(x=x_train, y=y_train, \n",
    "          batch_size=32, epochs=50,\n",
    "          shuffle=True, # a good idea is to shuffle input before at each epoch\n",
    "          validation_data=(x_valid, y_valid))"
   ]
  },
  {
   "cell_type": "code",
   "execution_count": 40,
   "metadata": {},
   "outputs": [
    {
     "data": {
      "text/plain": [
       "[array([[ 0.18311676,  0.17838705,  0.07543162,  0.1260648 , -0.5570026 ,\n",
       "         -0.60027874, -0.05502653,  0.0357114 ,  0.03985846, -0.136799  ,\n",
       "         -0.24221453, -0.09021426,  0.12692921,  0.48383188,  0.41460624,\n",
       "          0.10620479,  0.22992472, -0.7292645 , -0.14516632,  0.6545404 ,\n",
       "         -0.5129881 ,  0.08951879, -0.1519016 ,  0.44545433,  0.40741628,\n",
       "         -0.22489676,  0.47501934, -0.4256247 ,  0.47729054,  0.37716275]],\n",
       "       dtype=float32),\n",
       " array([ 0.06494685,  0.15717919, -0.18390779,  0.25243253, -0.0210216 ,\n",
       "        -0.1664173 ,  0.13333067,  0.08159272, -0.09730513, -0.24936695,\n",
       "        -0.11336729, -0.1477813 , -0.24544248,  0.0462706 , -0.00077584,\n",
       "         0.16950622,  0.14918305, -0.09461299,  0.037666  ,  0.48298874,\n",
       "        -0.01837688,  0.09019791,  0.07697969,  0.09070905,  0.00265187,\n",
       "        -0.08589828,  0.13383557, -0.09827927,  0.15354715,  0.26455173],\n",
       "       dtype=float32),\n",
       " array([[ 0.18252736, -0.05181269, -0.3681827 ,  0.05375537, -0.10443573,\n",
       "          0.04364488, -0.27113053,  0.07294052, -0.15074681, -0.0455744 ,\n",
       "          0.2887914 , -0.05138567, -0.3085734 , -0.38360003, -0.08784741],\n",
       "        [ 0.35231566,  0.25404617, -0.28524294,  0.30861062,  0.03031733,\n",
       "          0.1278816 , -0.37492844,  0.35681206,  0.33267546, -0.1350271 ,\n",
       "          0.23924005,  0.19699958, -0.00401246,  0.22482595, -0.08603933],\n",
       "        [ 0.06042942, -0.25869706,  0.03045095,  0.03615572,  0.05749113,\n",
       "          0.26402935,  0.00487132, -0.09719825, -0.1368877 ,  0.03200581,\n",
       "         -0.03863211,  0.3317488 , -0.06397779,  0.15366171,  0.18679246],\n",
       "        [ 0.04290652, -0.02891596, -0.3516074 ,  0.05057051, -0.1284127 ,\n",
       "          0.15018632, -0.09162481,  0.32645795,  0.12938762,  0.35231224,\n",
       "         -0.16845419, -0.3489117 ,  0.09483095, -0.16789542, -0.10902031],\n",
       "        [-0.178349  ,  0.30463627, -0.21973795,  0.06055027, -0.02154595,\n",
       "         -0.39412448,  0.2816967 , -0.30056366, -0.13228793, -0.18972029,\n",
       "          0.01059909, -0.08057841, -0.19064535,  0.15828446, -0.09827372],\n",
       "        [-0.0495377 ,  0.02740762,  0.17917223, -0.21907358,  0.045931  ,\n",
       "         -0.33427987,  0.16977149, -0.04686632,  0.0140012 , -0.3592575 ,\n",
       "         -0.38156563,  0.4462298 , -0.28617984,  0.02194334, -0.10386494],\n",
       "        [-0.35417086, -0.05876584,  0.31181666, -0.21331757, -0.1030705 ,\n",
       "         -0.22589217,  0.2072815 ,  0.15140498,  0.33044872,  0.2465816 ,\n",
       "          0.06813125,  0.16517997, -0.31824672,  0.31578767,  0.32083285],\n",
       "        [-0.13837156,  0.19513635,  0.07392941, -0.17484367, -0.04996396,\n",
       "         -0.14565559, -0.08259862, -0.16015112,  0.2777499 ,  0.14752768,\n",
       "          0.01021717,  0.12227982, -0.06283641, -0.03066626,  0.01751097],\n",
       "        [ 0.25005788, -0.12231854, -0.23916006,  0.04677882,  0.10172597,\n",
       "          0.04593785, -0.27240637, -0.04962253,  0.05446048, -0.25702247,\n",
       "         -0.20008402,  0.3203014 ,  0.35818428,  0.0420721 , -0.0164689 ],\n",
       "        [ 0.29851198, -0.16577217, -0.01258348,  0.21049729,  0.05594176,\n",
       "         -0.31763458,  0.34523574, -0.3801531 , -0.32098773, -0.20878254,\n",
       "         -0.30496588,  0.05487386, -0.20435092, -0.3291919 , -0.11641149],\n",
       "        [-0.27206728,  0.02427534,  0.35049266, -0.3171241 ,  0.00423127,\n",
       "         -0.35073325, -0.09392802,  0.07110507, -0.39948642,  0.19663149,\n",
       "         -0.17329235,  0.34305206,  0.22831282, -0.09611612,  0.20663568],\n",
       "        [ 0.29981416,  0.17869325,  0.04939203, -0.04825647,  0.278     ,\n",
       "          0.16664787, -0.08305787, -0.31092426, -0.23495401, -0.11157549,\n",
       "         -0.2803982 , -0.12143245, -0.22908543, -0.03067889, -0.14898913],\n",
       "        [-0.04512967, -0.27503833,  0.17232583,  0.19889417,  0.3385945 ,\n",
       "          0.18903707,  0.1995956 , -0.05106821, -0.14140841,  0.06880108,\n",
       "         -0.2520251 ,  0.20453908,  0.13126484,  0.29376227,  0.3006708 ],\n",
       "        [-0.21230738, -0.16487908, -0.0344097 ,  0.26152176,  0.24558733,\n",
       "          0.24266693,  0.16733962,  0.07641874,  0.37915835, -0.3179923 ,\n",
       "          0.1204142 , -0.17135766,  0.33930996, -0.01546249,  0.03517035],\n",
       "        [-0.1023287 ,  0.05688015, -0.40658695,  0.05876729,  0.17346737,\n",
       "         -0.17258185,  0.25733823, -0.19251743,  0.32423785, -0.33623865,\n",
       "          0.00443564, -0.08431486,  0.20388807, -0.3181376 , -0.17731705],\n",
       "        [ 0.35917988, -0.295222  ,  0.30084676, -0.31122783, -0.32381088,\n",
       "          0.01683411, -0.27918988, -0.12394865,  0.26750585,  0.10336479,\n",
       "          0.14296246, -0.11927493,  0.31564763,  0.2452027 , -0.04771091],\n",
       "        [-0.00597584,  0.13293235, -0.2681986 , -0.3050585 ,  0.23917267,\n",
       "         -0.2006921 , -0.24532759, -0.13016853,  0.19766794,  0.11836865,\n",
       "          0.09087656, -0.18717685, -0.11869431, -0.2113925 , -0.20882162],\n",
       "        [ 0.13757558, -0.25717354, -0.07233316,  0.34163478, -0.12208098,\n",
       "         -0.44334358,  0.00432493, -0.44460237, -0.16972706,  0.07366982,\n",
       "          0.18076696,  0.4357546 , -0.06142892,  0.33125567,  0.16215052],\n",
       "        [-0.31511447,  0.19461028, -0.0040514 ,  0.06924298,  0.07136363,\n",
       "         -0.13718739,  0.02958597, -0.0357479 ,  0.27324584, -0.06474301,\n",
       "         -0.15605372, -0.08213273,  0.23450877, -0.12529619, -0.3269507 ],\n",
       "        [ 0.3588141 ,  0.12366967, -0.16586854, -0.46524993,  0.05605618,\n",
       "          0.37680987, -0.31094167,  0.04437481,  0.23372681,  0.26203424,\n",
       "         -0.11162797, -0.5226395 ,  0.3250059 , -0.29502368,  0.03611901],\n",
       "        [-0.25562117,  0.28152305, -0.07684412, -0.07546847, -0.15845047,\n",
       "         -0.09846434, -0.14806986,  0.05157898, -0.34189183,  0.12126792,\n",
       "          0.24663518,  0.32159853, -0.16840304,  0.09436364, -0.01577407],\n",
       "        [-0.02606442, -0.02051822,  0.02396965, -0.04274072,  0.12371558,\n",
       "         -0.18736102,  0.08828069, -0.3215051 ,  0.299052  ,  0.23606016,\n",
       "         -0.28160384, -0.25341144, -0.09898959,  0.28398797,  0.26920703],\n",
       "        [-0.01121849, -0.2809103 ,  0.37112215, -0.2701012 , -0.27290416,\n",
       "         -0.12541494,  0.03542196,  0.3339029 ,  0.2288137 , -0.16185182,\n",
       "         -0.0269391 ,  0.02023641,  0.06937123,  0.28938234, -0.31578675],\n",
       "        [ 0.23553543,  0.21582997, -0.15290263, -0.23698753,  0.3603388 ,\n",
       "          0.3631089 , -0.05042653,  0.07753727,  0.13839902,  0.06427949,\n",
       "         -0.16428049,  0.00722578, -0.2884066 , -0.08853824,  0.01501288],\n",
       "        [ 0.10836518,  0.25776738,  0.27640793, -0.4165365 ,  0.13144748,\n",
       "          0.02810216,  0.2469091 ,  0.35305664, -0.20220347,  0.01174553,\n",
       "         -0.14880298,  0.09886454,  0.14926542, -0.24828802,  0.19404353],\n",
       "        [ 0.05948264, -0.08295741,  0.36729065, -0.29183903, -0.26137403,\n",
       "         -0.00731115,  0.02654359, -0.37135202, -0.00076423, -0.25287682,\n",
       "          0.05789146,  0.1289303 , -0.33829597, -0.06260408,  0.07889951],\n",
       "        [ 0.2824701 , -0.17596996,  0.31061256, -0.13063878,  0.03417248,\n",
       "          0.32500228,  0.2252673 ,  0.08438799,  0.17799893,  0.2776996 ,\n",
       "          0.01363022, -0.19994625, -0.14073956, -0.4475363 ,  0.04832972],\n",
       "        [-0.10585845, -0.23766635,  0.2865341 ,  0.37031114, -0.15689582,\n",
       "         -0.13994692, -0.21518765,  0.13722725, -0.1891194 ,  0.19703653,\n",
       "          0.21972227,  0.40227664, -0.01516568, -0.17603502, -0.22465032],\n",
       "        [-0.21992338, -0.09393756, -0.3297356 , -0.34834906,  0.3023878 ,\n",
       "         -0.21428631,  0.27392283, -0.09241121, -0.02337758,  0.29952994,\n",
       "         -0.22036642, -0.41820097, -0.07380513, -0.34789866,  0.30581594],\n",
       "        [ 0.00708316,  0.01838925,  0.14200859, -0.30804554,  0.04799679,\n",
       "          0.12500468, -0.16834664,  0.30613458,  0.19954224,  0.12219493,\n",
       "          0.04100922, -0.30808812,  0.00601377, -0.31265417,  0.04454464]],\n",
       "       dtype=float32),\n",
       " array([ 0.08461046,  0.09022842, -0.13417834, -0.12292898, -0.13266473,\n",
       "        -0.08574029, -0.0911326 ,  0.19695228,  0.31347692,  0.16977134,\n",
       "         0.1475692 , -0.24784692,  0.01820656,  0.01268607,  0.12354277],\n",
       "       dtype=float32),\n",
       " array([[ 0.46332204, -0.0730129 ,  0.34852993, -0.4691039 , -0.44625032,\n",
       "         -0.4220272 ,  0.12382653],\n",
       "        [-0.19767672, -0.29487473, -0.47698733, -0.44011846, -0.4190205 ,\n",
       "          0.05675407,  0.1106501 ],\n",
       "        [ 0.54300386,  0.10875614, -0.22630785,  0.20088954,  0.19245094,\n",
       "          0.27244267, -0.14976501],\n",
       "        [ 0.41754198,  0.02415601, -0.5474476 ,  0.3822983 ,  0.01233038,\n",
       "          0.40590084, -0.5343214 ],\n",
       "        [ 0.43515447, -0.4538946 ,  0.15362929,  0.16552255,  0.3166073 ,\n",
       "         -0.06315938,  0.45078823],\n",
       "        [-0.14922117, -0.5144154 ,  0.6189573 ,  0.28707805, -0.18121472,\n",
       "          0.5527845 , -0.4018297 ],\n",
       "        [-0.22370392, -0.5288768 ,  0.19991662,  0.39548942,  0.04139467,\n",
       "         -0.42336458,  0.39611688],\n",
       "        [ 0.18376397,  0.59500813,  0.5322156 , -0.1745654 , -0.33067572,\n",
       "          0.22795369,  0.50697577],\n",
       "        [ 0.20842482,  0.7953944 ,  0.30504817, -0.0697873 , -0.49785927,\n",
       "         -0.54390126, -0.31021532],\n",
       "        [-0.5520633 , -0.14574295, -0.301205  , -0.6045175 ,  0.0910238 ,\n",
       "         -0.4296014 , -0.3157823 ],\n",
       "        [ 0.426445  ,  0.50658405, -0.19928381,  0.5198322 , -0.38431016,\n",
       "         -0.22538029, -0.07064337],\n",
       "        [ 0.47572103, -0.4676282 , -0.455994  ,  0.5860015 ,  0.26973295,\n",
       "          0.05006862,  0.4325705 ],\n",
       "        [ 0.04816915,  0.09440082,  0.5325591 , -0.08605188,  0.43901002,\n",
       "         -0.35387966, -0.03662604],\n",
       "        [ 0.47523645,  0.3239977 , -0.63912255,  0.47401857,  0.37876225,\n",
       "         -0.10363689,  0.33362323],\n",
       "        [-0.5555339 , -0.14849477, -0.09793579, -0.32007974, -0.51657116,\n",
       "          0.2808907 , -0.18009792]], dtype=float32),\n",
       " array([-0.28442013,  0.4947125 , -0.11155036, -0.18775807, -0.1630515 ,\n",
       "        -0.2493619 ,  0.1023926 ], dtype=float32),\n",
       " array([[-0.56801134],\n",
       "        [ 1.1363869 ],\n",
       "        [-1.0117985 ],\n",
       "        [-0.7784737 ],\n",
       "        [-0.6924261 ],\n",
       "        [-0.85620856],\n",
       "        [ 0.0077159 ]], dtype=float32),\n",
       " array([0.71656704], dtype=float32)]"
      ]
     },
     "execution_count": 40,
     "metadata": {},
     "output_type": "execute_result"
    }
   ],
   "source": [
    "# return weights\n",
    "model.get_weights()"
   ]
  },
  {
   "cell_type": "code",
   "execution_count": 41,
   "metadata": {},
   "outputs": [
    {
     "name": "stdout",
     "output_type": "stream",
     "text": [
      "50/50 [==============================] - 0s 100us/sample - loss: 0.0653 - mean_squared_error: 0.0653\n",
      "\n",
      "Test loss: 0.0652893078327179\n",
      "Test accuracy: 0.0652893\n"
     ]
    }
   ],
   "source": [
    "# evaluate model\n",
    "score = model.evaluate(x_valid, y_valid, batch_size=32, verbose=1)\n",
    "\n",
    "# print performance\n",
    "print()\n",
    "print('Test loss:', score[0])\n",
    "print('Test accuracy:', score[1])"
   ]
  },
  {
   "cell_type": "code",
   "execution_count": 42,
   "metadata": {},
   "outputs": [
    {
     "name": "stdout",
     "output_type": "stream",
     "text": [
      "50/50 [==============================] - 0s 89us/sample - loss: 0.0248 - mean_squared_error: 0.0248\n",
      "\n",
      "Test loss: 0.024801668524742127\n",
      "Test accuracy: 0.02480167\n"
     ]
    }
   ],
   "source": [
    "# evaluate model with the exact curve\n",
    "score = model.evaluate(x_valid, y_target, batch_size=32, verbose=1)\n",
    "\n",
    "# print performance\n",
    "print()\n",
    "print('Test loss:', score[0])\n",
    "print('Test accuracy:', score[1])"
   ]
  },
  {
   "cell_type": "code",
   "execution_count": 43,
   "metadata": {},
   "outputs": [
    {
     "data": {
      "image/png": "[encoded data removed]",
      "text/plain": [
       "<Figure size 432x288 with 1 Axes>"
      ]
     },
     "metadata": {},
     "output_type": "display_data"
    }
   ],
   "source": [
    "# look into training history\n",
    "# Plot training & validation loss values\n",
    "plt.plot(history.history['loss'])\n",
    "plt.plot(history.history['val_loss'])\n",
    "plt.title('Model loss')\n",
    "plt.ylabel('Loss')\n",
    "plt.xlabel('Epoch')\n",
    "plt.legend(['Train', 'Test'], loc='best')\n",
    "plt.show()"
   ]
  },
  {
   "cell_type": "code",
   "execution_count": 44,
   "metadata": {},
   "outputs": [
    {
     "data": {
      "image/png": "[encoded data removed]",
      "text/plain": [
       "<Figure size 432x288 with 1 Axes>"
      ]
     },
     "metadata": {},
     "output_type": "display_data"
    }
   ],
   "source": [
    "x_predicted = np.random.uniform(-1, 1, 100)\n",
    "y_predicted = model.predict(x_predicted)\n",
    "plt.scatter(x_predicted, y_predicted,color='r')\n",
    "plt.plot(x_valid, y_target)\n",
    "plt.grid(True)\n",
    "plt.show()"
   ]
  },
  {
   "cell_type": "code",
   "execution_count": null,
   "metadata": {},
   "outputs": [],
   "source": []
  },
  {
   "cell_type": "code",
   "execution_count": null,
   "metadata": {},
   "outputs": [],
   "source": []
  },
  {
   "cell_type": "code",
   "execution_count": null,
   "metadata": {},
   "outputs": [],
   "source": []
  }
 ],
 "metadata": {
  "kernelspec": {
   "display_name": "Python 3",
   "language": "python",
   "name": "python3"
  },
  "language_info": {
   "codemirror_mode": {
    "name": "ipython",
    "version": 3
   },
   "file_extension": ".py",
   "mimetype": "text/x-python",
   "name": "python",
   "nbconvert_exporter": "python",
   "pygments_lexer": "ipython3",
   "version": "3.6.8"
  }
 },
 "nbformat": 4,
 "nbformat_minor": 2
}
