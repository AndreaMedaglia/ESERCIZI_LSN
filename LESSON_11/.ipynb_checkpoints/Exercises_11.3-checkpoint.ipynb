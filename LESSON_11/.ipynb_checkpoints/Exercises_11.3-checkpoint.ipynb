{
 "cells": [
  {
   "cell_type": "markdown",
   "metadata": {},
   "source": [
    "#  </span> <span style=\"color:red\"> LEZIONE 11  </span>\n",
    "    \n",
    "## ESERCIZIO 11.3\n",
    "    \n",
    "###  Funzione trigonometrica 2D $f(x,y) = \\sin(x^2+y^2)$ con $x \\in [-3/2,3/2]$ e $y \\in [-3/2,3/2]$.\n",
    "\n",
    "In questo esercizio: \n",
    "- $N_{train}=10^4$; $N_{test}=10^3$\n",
    "- vengono scelti $4$ *layer* nascosti con, rispettivamente, $15$ (attivazione *elu*), $20$ (attivazione *relu*), $10$ (attivazione *tanh*), $5$ (attivazione *relu*) neuroni\n",
    "- la funzione di attivazione per l'ultimo *layer* è *elu*\n",
    "- la funzione di ottimizzazione è *sgd*\n",
    "- la funzione di perdita (e la metrica) è *mse*\n",
    "- $N_{epochs}=50$\n",
    "\n",
    "Il modello è salvato in Saved/Model_9"
   ]
  },
  {
   "cell_type": "code",
   "execution_count": null,
   "metadata": {},
   "outputs": [],
   "source": [
    "# target parameters of f(x) = sin(x^2+y^2)\n",
    "a = 1\n",
    "b = 1\n",
    "\n",
    "import numpy as np\n",
    "\n",
    "def f(x, y):\n",
    "    return np.sin(a*x*x + b*y*y)\n",
    "\n",
    "# generate training inputs\n",
    "np.random.seed(0)\n",
    "x_train = np.zeros((10000,2))\n",
    "x_train[:,0] = np.random.uniform(-1.5, 1.5, 10000)\n",
    "x_train[:,1] = np.random.uniform(-1.5, 1.5, 10000)\n",
    "\n",
    "x_valid = np.zeros((1000,2))\n",
    "x_valid[:,0] = np.random.uniform(-1.5, 1.5, 1000)\n",
    "x_valid[:,1] = np.random.uniform(-1.5, 1.5, 1000)\n",
    "\n",
    "y_target = f(x_train[:,0], x_train[:,1]) # ideal (target) function\n",
    "\n",
    "sigma = 0.2 # noise standard deviation, for the moment it is absent\n",
    "\n",
    "y_train = np.random.normal(f(x_train[:,0], x_train[:,1]), sigma) \n",
    "y_valid = np.random.normal(f(x_valid[:,0], x_valid[:,1]), sigma)\n",
    "\n",
    "# plot training and target dataset\n",
    "import matplotlib\n",
    "import matplotlib.pyplot as plt\n",
    "from mpl_toolkits.mplot3d import Axes3D\n",
    "plt.rcParams['figure.figsize']=[8, 5]\n",
    "\n",
    "fig = plt.figure()\n",
    "ax = Axes3D(fig)\n",
    "ax.plot_trisurf(x_train[:,0], x_train[:,1], y_target, alpha=0.5)\n",
    "ax.scatter(x_valid[:,0], x_valid[:,1], y_valid, color='r')\n",
    "plt.grid(True); plt.show()"
   ]
  },
  {
   "cell_type": "code",
   "execution_count": null,
   "metadata": {},
   "outputs": [],
   "source": [
    "import tensorflow as tf\n",
    "from tensorflow import keras\n",
    "\n",
    "from tensorflow.keras.models import Sequential\n",
    "from tensorflow.keras.layers import Dense, Activation\n",
    "from tensorflow.keras import backend as K\n",
    "from tensorflow.keras.utils import get_custom_objects\n"
   ]
  },
  {
   "cell_type": "code",
   "execution_count": null,
   "metadata": {},
   "outputs": [],
   "source": [
    "# compose the NN model\n",
    "\n",
    "model = tf.keras.Sequential()\n",
    "model.add(Dense(15, input_shape=(2,), activation='elu'))\n",
    "model.add(Dense(20, input_shape=(2,), activation='relu'))\n",
    "model.add(Dense(10, input_shape=(2,), activation='tanh'))\n",
    "model.add(Dense(5, input_shape=(2,), activation='relu'))\n",
    "model.add(Dense(1, input_shape=(2,), activation='elu'))\n",
    "\n",
    "# compile the model choosing optimizer, loss and metrics objects\n",
    "model.compile(optimizer='sgd', loss='mse', metrics=['mse'])\n",
    "\n",
    "# get a summary of our composed model\n",
    "model.summary()"
   ]
  },
  {
   "cell_type": "code",
   "execution_count": null,
   "metadata": {},
   "outputs": [],
   "source": [
    "# fit the model using training dataset\n",
    "# over 10 epochs of 32 batch size each\n",
    "# report training progress against validation data\n",
    "history = model.fit(x=x_train, y=y_train, \n",
    "          batch_size=32, epochs=50,\n",
    "          shuffle=True, # a good idea is to shuffle input before at each epoch\n",
    "          validation_data=(x_valid, y_valid))"
   ]
  },
  {
   "cell_type": "code",
   "execution_count": null,
   "metadata": {},
   "outputs": [],
   "source": [
    "# return weights\n",
    "#model.get_weights()"
   ]
  },
  {
   "cell_type": "code",
   "execution_count": null,
   "metadata": {},
   "outputs": [],
   "source": [
    "# evaluate model\n",
    "score = model.evaluate(x_valid, y_valid, batch_size=32, verbose=1)\n",
    "\n",
    "# print performance\n",
    "print()\n",
    "print('Test loss:', score[0])"
   ]
  },
  {
   "cell_type": "code",
   "execution_count": null,
   "metadata": {},
   "outputs": [],
   "source": [
    "# evaluate model with the exact curve\n",
    "score = model.evaluate(x_train, y_target, batch_size=32, verbose=1)\n",
    "\n",
    "# print performance\n",
    "print()\n",
    "print('Test loss:', score[0])"
   ]
  },
  {
   "cell_type": "code",
   "execution_count": null,
   "metadata": {},
   "outputs": [],
   "source": [
    "# look into training history\n",
    "# Plot training & validation loss values\n",
    "plt.plot(history.history['loss'])\n",
    "plt.plot(history.history['val_loss'])\n",
    "plt.title('Model loss')\n",
    "plt.ylabel('Loss')\n",
    "plt.xlabel('Epoch')\n",
    "plt.legend(['Train', 'Test'], loc='best')\n",
    "plt.show()"
   ]
  },
  {
   "cell_type": "code",
   "execution_count": null,
   "metadata": {},
   "outputs": [],
   "source": [
    "import matplotlib.colors\n",
    "from matplotlib import cm\n",
    "norm = matplotlib.colors.Normalize(0,2)\n",
    "cmap = cm.coolwarm\n",
    "\n",
    "fig = plt.figure()\n",
    "ax = Axes3D(fig)\n",
    "\n",
    "x_predicted = np.zeros((1000, 2))\n",
    "x_predicted[:,0] = np.random.uniform(-1.5, 1.5, 1000)\n",
    "x_predicted[:,1] = np.random.uniform(-1.5, 1.5, 1000)\n",
    "\n",
    "y_predicted = model.predict(x_predicted)\n",
    "ax.scatter(x_predicted[:,0], x_predicted[:,1], y_predicted, color='r', zorder=2)\n",
    "ax.plot_trisurf(x_train[:,0], x_train[:,1], y_target,  norm=norm, cmap=cmap, zorder=1, alpha=0.75)\n",
    "\n",
    "\n",
    "\n",
    "plt.grid(True)\n",
    "plt.show()\n"
   ]
  },
  {
   "cell_type": "markdown",
   "metadata": {},
   "source": [
    "### Salvare il Modello"
   ]
  },
  {
   "cell_type": "code",
   "execution_count": null,
   "metadata": {},
   "outputs": [],
   "source": [
    "##### CELLA PER SALVARE IL MODELLO: CAMBIARE NOME, IN CASO ##########\n",
    "\n",
    "save_model_path='Saved/Model_'\n",
    "model.save(filepath=save_model_path, include_optimizer=True)"
   ]
  },
  {
   "cell_type": "markdown",
   "metadata": {},
   "source": [
    "### Caricare Modello salvato e stampare le caratteristiche"
   ]
  },
  {
   "cell_type": "code",
   "execution_count": null,
   "metadata": {},
   "outputs": [],
   "source": [
    "# CARICARE UN MODELLO SALVATO #\n",
    "# ricordarsi di compilare i primi 2 blocchi di questo jupyter #\n",
    "\n",
    "from keras.models import load_model\n",
    "from keras.utils import CustomObjectScope\n",
    "from keras.initializers import glorot_uniform\n",
    "\n",
    "with CustomObjectScope({'GlorotUniform': glorot_uniform()}):\n",
    "        model_old = load_model('./Saved/Model_9')\n",
    "\n",
    "\n",
    "# stampo le caratteristiche del modello salvato #\n",
    "model_old.summary()\n",
    "\n",
    "print()\n",
    "print()\n",
    "# evaluate model\n",
    "print('Loss e accuracy sui dati di validazione')\n",
    "print()\n",
    "score = model_old.evaluate(x_valid, y_valid, batch_size=32, verbose=1)\n",
    "# print performance\n",
    "print()\n",
    "print('Test loss:', score[0])\n",
    "print('Test accuracy:', score[1])\n",
    "\n",
    "print()\n",
    "print()\n",
    "# evaluate model with the exact curve\n",
    "print('Loss e accuracy sulla funzione bersagio')\n",
    "print()\n",
    "score = model_old.evaluate(x_train, y_target, batch_size=32, verbose=1)\n",
    "print()\n",
    "# print performance\n",
    "print('Test loss:', score[0])\n",
    "print('Test accuracy:', score[1])"
   ]
  },
  {
   "cell_type": "markdown",
   "metadata": {},
   "source": [
    "### Predizioni"
   ]
  },
  {
   "cell_type": "code",
   "execution_count": null,
   "metadata": {},
   "outputs": [],
   "source": [
    "import matplotlib.colors\n",
    "from matplotlib import cm\n",
    "norm = matplotlib.colors.Normalize(0,2)\n",
    "cmap = cm.coolwarm\n",
    "\n",
    "fig = plt.figure()\n",
    "ax = Axes3D(fig)\n",
    "\n",
    "x_predicted = np.zeros((1000, 2))\n",
    "x_predicted[:,0] = np.random.uniform(-1.5, 1.5, 1000)\n",
    "x_predicted[:,1] = np.random.uniform(-1.5, 1.5, 1000)\n",
    "\n",
    "y_predicted = model_old.predict(x_predicted)\n",
    "ax.scatter(x_predicted[:,0], x_predicted[:,1], y_predicted, color='r', zorder=2)\n",
    "ax.plot_trisurf(x_train[:,0], x_train[:,1], y_target,  norm=norm, cmap=cmap, zorder=1, alpha=0.75)\n",
    "\n",
    "\n",
    "\n",
    "plt.grid(True)\n",
    "plt.show()\n"
   ]
  },
  {
   "cell_type": "code",
   "execution_count": null,
   "metadata": {},
   "outputs": [],
   "source": []
  }
 ],
 "metadata": {
  "kernelspec": {
   "display_name": "Python 3",
   "language": "python",
   "name": "python3"
  },
  "language_info": {
   "codemirror_mode": {
    "name": "ipython",
    "version": 3
   },
   "file_extension": ".py",
   "mimetype": "text/x-python",
   "name": "python",
   "nbconvert_exporter": "python",
   "pygments_lexer": "ipython3",
   "version": "3.6.8"
  }
 },
 "nbformat": 4,
 "nbformat_minor": 2
}
