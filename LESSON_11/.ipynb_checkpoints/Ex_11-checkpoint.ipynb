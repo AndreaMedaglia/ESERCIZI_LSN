{
 "cells": [
  {
   "cell_type": "markdown",
   "metadata": {},
   "source": [
    "# EXERCISE 11\n",
    "\n"
   ]
  },
  {
   "cell_type": "markdown",
   "metadata": {},
   "source": [
    "## 11.2 \n",
    "$f(x)=4-3x-2x^2+3x^3$ for $x \\in [-1,1]$."
   ]
  },
  {
   "cell_type": "code",
   "execution_count": 243,
   "metadata": {},
   "outputs": [],
   "source": [
    "# target parameters of f(x) = ax^3 + bx^2 + cx + d\n",
    "a = 3\n",
    "b = -2\n",
    "c = -3\n",
    "d = 4"
   ]
  },
  {
   "cell_type": "code",
   "execution_count": 282,
   "metadata": {},
   "outputs": [],
   "source": [
    "import numpy as np\n",
    "\n",
    "# generate training inputs\n",
    "np.random.seed(0)\n",
    "x_train = np.random.uniform(-1, 1, 1000)\n",
    "x_valid = np.random.uniform(-1, 1, 20)\n",
    "x_valid.sort()\n",
    "y_target = a*x_valid**3 + b*x_valid**2 + c*x_valid + d # ideal (target) function\n",
    "\n",
    "sigma = 0.2 # noise standard deviation, for the moment it is absent\n",
    "y_train = np.random.normal(a*x_train**3 + b*x_train**2 + c*x_train + d, sigma) \n",
    "y_valid = np.random.normal(a*x_valid**3 + b*x_valid**2 + c*x_valid + d, sigma)"
   ]
  },
  {
   "cell_type": "code",
   "execution_count": 283,
   "metadata": {},
   "outputs": [
    {
     "data": {
      "image/png": "[encoded data removed]",
      "text/plain": [
       "<Figure size 432x288 with 1 Axes>"
      ]
     },
     "metadata": {},
     "output_type": "display_data"
    }
   ],
   "source": [
    "# plot training and target dataset\n",
    "import matplotlib.pyplot as plt\n",
    "plt.plot(x_valid, y_target)\n",
    "plt.scatter(x_valid, y_valid, color='r')\n",
    "plt.grid(True); plt.show()"
   ]
  },
  {
   "cell_type": "code",
   "execution_count": 284,
   "metadata": {},
   "outputs": [],
   "source": [
    "# compose the NN model\n",
    "import tensorflow as tf\n",
    "from tensorflow import keras\n",
    "\n",
    "from tensorflow.keras.models import Sequential\n",
    "from tensorflow.keras.layers import Dense, Activation\n",
    "from tensorflow.keras import backend as K\n",
    "from tensorflow.keras.utils import get_custom_objects\n",
    "\n",
    "model = tf.keras.Sequential()\n",
    "model.add(Dense(4, input_shape=(1,)))\n",
    "model.add(Dense(2, input_shape=(1,)))\n",
    "\n",
    "# compile the model choosing optimizer, loss and metrics objects\n",
    "model.compile(optimizer='sgd', loss='mse', metrics=['mse'])"
   ]
  },
  {
   "cell_type": "code",
   "execution_count": 285,
   "metadata": {},
   "outputs": [
    {
     "name": "stdout",
     "output_type": "stream",
     "text": [
      "_________________________________________________________________\n",
      "Layer (type)                 Output Shape              Param #   \n",
      "=================================================================\n",
      "dense_31 (Dense)             (None, 4)                 8         \n",
      "_________________________________________________________________\n",
      "dense_32 (Dense)             (None, 2)                 10        \n",
      "=================================================================\n",
      "Total params: 18\n",
      "Trainable params: 18\n",
      "Non-trainable params: 0\n",
      "_________________________________________________________________\n"
     ]
    }
   ],
   "source": [
    "# get a summary of our composed model\n",
    "model.summary()"
   ]
  },
  {
   "cell_type": "code",
   "execution_count": 286,
   "metadata": {},
   "outputs": [
    {
     "name": "stdout",
     "output_type": "stream",
     "text": [
      "Train on 1000 samples, validate on 20 samples\n",
      "Epoch 1/50\n",
      "1000/1000 [==============================] - 1s 679us/sample - loss: 6.1103 - mean_squared_error: 6.1103 - val_loss: 1.4202 - val_mean_squared_error: 1.4202\n",
      "Epoch 2/50\n",
      "1000/1000 [==============================] - 0s 66us/sample - loss: 0.9013 - mean_squared_error: 0.9013 - val_loss: 0.9562 - val_mean_squared_error: 0.9562\n",
      "Epoch 3/50\n",
      "1000/1000 [==============================] - 0s 59us/sample - loss: 0.6281 - mean_squared_error: 0.6281 - val_loss: 1.1306 - val_mean_squared_error: 1.1306\n",
      "Epoch 4/50\n",
      "1000/1000 [==============================] - 0s 55us/sample - loss: 0.6061 - mean_squared_error: 0.6061 - val_loss: 1.1358 - val_mean_squared_error: 1.1358\n",
      "Epoch 5/50\n",
      "1000/1000 [==============================] - 0s 56us/sample - loss: 0.5973 - mean_squared_error: 0.5973 - val_loss: 1.2057 - val_mean_squared_error: 1.2057\n",
      "Epoch 6/50\n",
      "1000/1000 [==============================] - 0s 55us/sample - loss: 0.5973 - mean_squared_error: 0.5973 - val_loss: 1.1911 - val_mean_squared_error: 1.1911\n",
      "Epoch 7/50\n",
      "1000/1000 [==============================] - 0s 65us/sample - loss: 0.5952 - mean_squared_error: 0.5952 - val_loss: 1.1739 - val_mean_squared_error: 1.1739\n",
      "Epoch 8/50\n",
      "1000/1000 [==============================] - 0s 66us/sample - loss: 0.5958 - mean_squared_error: 0.5958 - val_loss: 1.2316 - val_mean_squared_error: 1.2316\n",
      "Epoch 9/50\n",
      "1000/1000 [==============================] - 0s 70us/sample - loss: 0.5951 - mean_squared_error: 0.5951 - val_loss: 1.1922 - val_mean_squared_error: 1.1922\n",
      "Epoch 10/50\n",
      "1000/1000 [==============================] - 0s 65us/sample - loss: 0.5953 - mean_squared_error: 0.5953 - val_loss: 1.2215 - val_mean_squared_error: 1.2215\n",
      "Epoch 11/50\n",
      "1000/1000 [==============================] - 0s 67us/sample - loss: 0.5959 - mean_squared_error: 0.5959 - val_loss: 1.1746 - val_mean_squared_error: 1.1746\n",
      "Epoch 12/50\n",
      "1000/1000 [==============================] - 0s 66us/sample - loss: 0.5951 - mean_squared_error: 0.5951 - val_loss: 1.1815 - val_mean_squared_error: 1.1815\n",
      "Epoch 13/50\n",
      "1000/1000 [==============================] - 0s 65us/sample - loss: 0.5957 - mean_squared_error: 0.5957 - val_loss: 1.1897 - val_mean_squared_error: 1.1897\n",
      "Epoch 14/50\n",
      "1000/1000 [==============================] - 0s 65us/sample - loss: 0.5960 - mean_squared_error: 0.5960 - val_loss: 1.2386 - val_mean_squared_error: 1.2386\n",
      "Epoch 15/50\n",
      "1000/1000 [==============================] - 0s 64us/sample - loss: 0.5959 - mean_squared_error: 0.5959 - val_loss: 1.2327 - val_mean_squared_error: 1.2327\n",
      "Epoch 16/50\n",
      "1000/1000 [==============================] - 0s 62us/sample - loss: 0.5960 - mean_squared_error: 0.5960 - val_loss: 1.1964 - val_mean_squared_error: 1.1964\n",
      "Epoch 17/50\n",
      "1000/1000 [==============================] - 0s 67us/sample - loss: 0.5960 - mean_squared_error: 0.5960 - val_loss: 1.2285 - val_mean_squared_error: 1.2285\n",
      "Epoch 18/50\n",
      "1000/1000 [==============================] - 0s 56us/sample - loss: 0.5958 - mean_squared_error: 0.5958 - val_loss: 1.2071 - val_mean_squared_error: 1.2071\n",
      "Epoch 19/50\n",
      "1000/1000 [==============================] - 0s 65us/sample - loss: 0.5959 - mean_squared_error: 0.5959 - val_loss: 1.2574 - val_mean_squared_error: 1.2574\n",
      "Epoch 20/50\n",
      "1000/1000 [==============================] - 0s 65us/sample - loss: 0.5967 - mean_squared_error: 0.5967 - val_loss: 1.2058 - val_mean_squared_error: 1.2058\n",
      "Epoch 21/50\n",
      "1000/1000 [==============================] - 0s 63us/sample - loss: 0.5963 - mean_squared_error: 0.5963 - val_loss: 1.2243 - val_mean_squared_error: 1.2243\n",
      "Epoch 22/50\n",
      "1000/1000 [==============================] - 0s 71us/sample - loss: 0.5964 - mean_squared_error: 0.5964 - val_loss: 1.1960 - val_mean_squared_error: 1.1960\n",
      "Epoch 23/50\n",
      "1000/1000 [==============================] - 0s 62us/sample - loss: 0.5951 - mean_squared_error: 0.5951 - val_loss: 1.2048 - val_mean_squared_error: 1.2048\n",
      "Epoch 24/50\n",
      "1000/1000 [==============================] - 0s 64us/sample - loss: 0.5958 - mean_squared_error: 0.5958 - val_loss: 1.2194 - val_mean_squared_error: 1.2194\n",
      "Epoch 25/50\n",
      "1000/1000 [==============================] - 0s 63us/sample - loss: 0.5957 - mean_squared_error: 0.5957 - val_loss: 1.2119 - val_mean_squared_error: 1.2119\n",
      "Epoch 26/50\n",
      "1000/1000 [==============================] - 0s 65us/sample - loss: 0.5951 - mean_squared_error: 0.5951 - val_loss: 1.2181 - val_mean_squared_error: 1.2181\n",
      "Epoch 27/50\n",
      "1000/1000 [==============================] - 0s 67us/sample - loss: 0.5962 - mean_squared_error: 0.5962 - val_loss: 1.2075 - val_mean_squared_error: 1.2075\n",
      "Epoch 28/50\n",
      "1000/1000 [==============================] - 0s 62us/sample - loss: 0.5964 - mean_squared_error: 0.5964 - val_loss: 1.2330 - val_mean_squared_error: 1.2330\n",
      "Epoch 29/50\n",
      "1000/1000 [==============================] - 0s 65us/sample - loss: 0.5967 - mean_squared_error: 0.5967 - val_loss: 1.1965 - val_mean_squared_error: 1.1965\n",
      "Epoch 30/50\n",
      "1000/1000 [==============================] - 0s 63us/sample - loss: 0.5958 - mean_squared_error: 0.5958 - val_loss: 1.1907 - val_mean_squared_error: 1.1907\n",
      "Epoch 31/50\n",
      "1000/1000 [==============================] - 0s 68us/sample - loss: 0.5950 - mean_squared_error: 0.5950 - val_loss: 1.1952 - val_mean_squared_error: 1.1952\n",
      "Epoch 32/50\n",
      "1000/1000 [==============================] - 0s 56us/sample - loss: 0.5959 - mean_squared_error: 0.5959 - val_loss: 1.1967 - val_mean_squared_error: 1.1967\n",
      "Epoch 33/50\n",
      "1000/1000 [==============================] - 0s 54us/sample - loss: 0.5953 - mean_squared_error: 0.5953 - val_loss: 1.2400 - val_mean_squared_error: 1.2400\n",
      "Epoch 34/50\n",
      "1000/1000 [==============================] - 0s 55us/sample - loss: 0.5970 - mean_squared_error: 0.5970 - val_loss: 1.2274 - val_mean_squared_error: 1.2274\n",
      "Epoch 35/50\n",
      "1000/1000 [==============================] - 0s 64us/sample - loss: 0.5960 - mean_squared_error: 0.5960 - val_loss: 1.2231 - val_mean_squared_error: 1.2231\n",
      "Epoch 36/50\n",
      "1000/1000 [==============================] - 0s 66us/sample - loss: 0.5962 - mean_squared_error: 0.5962 - val_loss: 1.1953 - val_mean_squared_error: 1.1953\n",
      "Epoch 37/50\n",
      "1000/1000 [==============================] - 0s 65us/sample - loss: 0.5954 - mean_squared_error: 0.5954 - val_loss: 1.2292 - val_mean_squared_error: 1.2292\n",
      "Epoch 38/50\n",
      "1000/1000 [==============================] - 0s 53us/sample - loss: 0.5952 - mean_squared_error: 0.5952 - val_loss: 1.2098 - val_mean_squared_error: 1.2098\n",
      "Epoch 39/50\n",
      "1000/1000 [==============================] - 0s 57us/sample - loss: 0.5966 - mean_squared_error: 0.5966 - val_loss: 1.2234 - val_mean_squared_error: 1.2234\n",
      "Epoch 40/50\n",
      "1000/1000 [==============================] - 0s 52us/sample - loss: 0.5958 - mean_squared_error: 0.5958 - val_loss: 1.1511 - val_mean_squared_error: 1.1511\n",
      "Epoch 41/50\n",
      "1000/1000 [==============================] - 0s 61us/sample - loss: 0.5960 - mean_squared_error: 0.5960 - val_loss: 1.2110 - val_mean_squared_error: 1.2110\n",
      "Epoch 42/50\n",
      "1000/1000 [==============================] - 0s 59us/sample - loss: 0.5964 - mean_squared_error: 0.5964 - val_loss: 1.2157 - val_mean_squared_error: 1.2157\n",
      "Epoch 43/50\n",
      "1000/1000 [==============================] - 0s 56us/sample - loss: 0.5959 - mean_squared_error: 0.5959 - val_loss: 1.2295 - val_mean_squared_error: 1.2295\n",
      "Epoch 44/50\n",
      "1000/1000 [==============================] - 0s 54us/sample - loss: 0.5940 - mean_squared_error: 0.5940 - val_loss: 1.1887 - val_mean_squared_error: 1.1887\n",
      "Epoch 45/50\n",
      "1000/1000 [==============================] - 0s 53us/sample - loss: 0.5953 - mean_squared_error: 0.5953 - val_loss: 1.2085 - val_mean_squared_error: 1.2085\n",
      "Epoch 46/50\n",
      "1000/1000 [==============================] - 0s 55us/sample - loss: 0.5967 - mean_squared_error: 0.5967 - val_loss: 1.1803 - val_mean_squared_error: 1.1803\n",
      "Epoch 47/50\n",
      "1000/1000 [==============================] - 0s 53us/sample - loss: 0.5968 - mean_squared_error: 0.5968 - val_loss: 1.2167 - val_mean_squared_error: 1.2167\n",
      "Epoch 48/50\n",
      "1000/1000 [==============================] - 0s 56us/sample - loss: 0.5953 - mean_squared_error: 0.5953 - val_loss: 1.2206 - val_mean_squared_error: 1.2206\n",
      "Epoch 49/50\n"
     ]
    },
    {
     "name": "stdout",
     "output_type": "stream",
     "text": [
      "1000/1000 [==============================] - 0s 51us/sample - loss: 0.5951 - mean_squared_error: 0.5951 - val_loss: 1.2042 - val_mean_squared_error: 1.2042\n",
      "Epoch 50/50\n",
      "1000/1000 [==============================] - 0s 54us/sample - loss: 0.5961 - mean_squared_error: 0.5961 - val_loss: 1.2025 - val_mean_squared_error: 1.2025\n"
     ]
    }
   ],
   "source": [
    "# fit the model using training dataset\n",
    "# over 10 epochs of 32 batch size each\n",
    "# report training progress against validation data\n",
    "history = model.fit(x=x_train, y=y_train, \n",
    "          batch_size=32, epochs=50,\n",
    "          shuffle=True, # a good idea is to shuffle input before at each epoch\n",
    "          validation_data=(x_valid, y_valid))"
   ]
  },
  {
   "cell_type": "code",
   "execution_count": 287,
   "metadata": {},
   "outputs": [
    {
     "data": {
      "text/plain": [
       "[array([[-0.6658225 ,  0.51588196, -0.61100894, -0.64192677]],\n",
       "       dtype=float32),\n",
       " array([ 1.1663034 , -0.60784715, -0.7046222 ,  0.74438643], dtype=float32),\n",
       " array([[ 0.80681705,  1.434131  ],\n",
       "        [-0.38539505, -0.848208  ],\n",
       "        [-0.55197114, -0.42023233],\n",
       "        [ 1.2960781 ,  0.148304  ]], dtype=float32),\n",
       " array([0.8206769, 0.7546626], dtype=float32)]"
      ]
     },
     "execution_count": 287,
     "metadata": {},
     "output_type": "execute_result"
    }
   ],
   "source": [
    "# return weights\n",
    "model.get_weights()"
   ]
  },
  {
   "cell_type": "code",
   "execution_count": 288,
   "metadata": {},
   "outputs": [
    {
     "name": "stdout",
     "output_type": "stream",
     "text": [
      "20/20 [==============================] - 0s 166us/sample - loss: 1.2025 - mean_squared_error: 1.2025\n",
      "\n",
      "Test loss: 1.2025444507598877\n",
      "Test accuracy: 1.2025445\n"
     ]
    }
   ],
   "source": [
    "# evaluate model\n",
    "score = model.evaluate(x_valid, y_valid, batch_size=32, verbose=1)\n",
    "\n",
    "# print performance\n",
    "print()\n",
    "print('Test loss:', score[0])\n",
    "print('Test accuracy:', score[1])"
   ]
  },
  {
   "cell_type": "code",
   "execution_count": 289,
   "metadata": {},
   "outputs": [
    {
     "name": "stdout",
     "output_type": "stream",
     "text": [
      "20/20 [==============================] - 0s 87us/sample - loss: 1.0983 - mean_squared_error: 1.0983\n",
      "\n",
      "Test loss: 1.09833562374115\n",
      "Test accuracy: 1.0983356\n"
     ]
    }
   ],
   "source": [
    "# evaluate model with the exact curve\n",
    "score = model.evaluate(x_valid, y_target, batch_size=32, verbose=1)\n",
    "\n",
    "# print performance\n",
    "print()\n",
    "print('Test loss:', score[0])\n",
    "print('Test accuracy:', score[1])"
   ]
  },
  {
   "cell_type": "code",
   "execution_count": 290,
   "metadata": {},
   "outputs": [
    {
     "data": {
      "image/png": "[encoded data removed]",
      "text/plain": [
       "<Figure size 432x288 with 1 Axes>"
      ]
     },
     "metadata": {},
     "output_type": "display_data"
    }
   ],
   "source": [
    "# look into training history\n",
    "# Plot training & validation loss values\n",
    "plt.plot(history.history['loss'])\n",
    "plt.plot(history.history['val_loss'])\n",
    "plt.title('Model loss')\n",
    "plt.ylabel('Loss')\n",
    "plt.xlabel('Epoch')\n",
    "plt.legend(['Train', 'Test'], loc='best')\n",
    "plt.show()"
   ]
  },
  {
   "cell_type": "code",
   "execution_count": 291,
   "metadata": {},
   "outputs": [
    {
     "ename": "ValueError",
     "evalue": "x and y must be the same size",
     "output_type": "error",
     "traceback": [
      "\u001b[0;31m---------------------------------------------------------------------------\u001b[0m",
      "\u001b[0;31mValueError\u001b[0m                                Traceback (most recent call last)",
      "\u001b[0;32m<ipython-input-291-e672d622d789>\u001b[0m in \u001b[0;36m<module>\u001b[0;34m()\u001b[0m\n\u001b[1;32m      1\u001b[0m \u001b[0mx_predicted\u001b[0m \u001b[0;34m=\u001b[0m \u001b[0mnp\u001b[0m\u001b[0;34m.\u001b[0m\u001b[0mrandom\u001b[0m\u001b[0;34m.\u001b[0m\u001b[0muniform\u001b[0m\u001b[0;34m(\u001b[0m\u001b[0;34m-\u001b[0m\u001b[0;36m1\u001b[0m\u001b[0;34m,\u001b[0m \u001b[0;36m1\u001b[0m\u001b[0;34m,\u001b[0m \u001b[0;36m200\u001b[0m\u001b[0;34m)\u001b[0m\u001b[0;34m\u001b[0m\u001b[0;34m\u001b[0m\u001b[0m\n\u001b[1;32m      2\u001b[0m \u001b[0my_predicted\u001b[0m \u001b[0;34m=\u001b[0m \u001b[0mmodel\u001b[0m\u001b[0;34m.\u001b[0m\u001b[0mpredict\u001b[0m\u001b[0;34m(\u001b[0m\u001b[0mx_predicted\u001b[0m\u001b[0;34m)\u001b[0m\u001b[0;34m\u001b[0m\u001b[0;34m\u001b[0m\u001b[0m\n\u001b[0;32m----> 3\u001b[0;31m \u001b[0mplt\u001b[0m\u001b[0;34m.\u001b[0m\u001b[0mscatter\u001b[0m\u001b[0;34m(\u001b[0m\u001b[0mx_predicted\u001b[0m\u001b[0;34m,\u001b[0m \u001b[0my_predicted\u001b[0m\u001b[0;34m,\u001b[0m\u001b[0mcolor\u001b[0m\u001b[0;34m=\u001b[0m\u001b[0;34m'r'\u001b[0m\u001b[0;34m)\u001b[0m\u001b[0;34m\u001b[0m\u001b[0;34m\u001b[0m\u001b[0m\n\u001b[0m\u001b[1;32m      4\u001b[0m \u001b[0mplt\u001b[0m\u001b[0;34m.\u001b[0m\u001b[0mplot\u001b[0m\u001b[0;34m(\u001b[0m\u001b[0mx_valid\u001b[0m\u001b[0;34m,\u001b[0m \u001b[0my_target\u001b[0m\u001b[0;34m)\u001b[0m\u001b[0;34m\u001b[0m\u001b[0;34m\u001b[0m\u001b[0m\n\u001b[1;32m      5\u001b[0m \u001b[0mplt\u001b[0m\u001b[0;34m.\u001b[0m\u001b[0mgrid\u001b[0m\u001b[0;34m(\u001b[0m\u001b[0;32mTrue\u001b[0m\u001b[0;34m)\u001b[0m\u001b[0;34m\u001b[0m\u001b[0;34m\u001b[0m\u001b[0m\n",
      "\u001b[0;32m~/miniconda3/envs/idp/lib/python3.6/site-packages/matplotlib/pyplot.py\u001b[0m in \u001b[0;36mscatter\u001b[0;34m(x, y, s, c, marker, cmap, norm, vmin, vmax, alpha, linewidths, verts, edgecolors, data, **kwargs)\u001b[0m\n\u001b[1;32m   2860\u001b[0m         \u001b[0mvmin\u001b[0m\u001b[0;34m=\u001b[0m\u001b[0mvmin\u001b[0m\u001b[0;34m,\u001b[0m \u001b[0mvmax\u001b[0m\u001b[0;34m=\u001b[0m\u001b[0mvmax\u001b[0m\u001b[0;34m,\u001b[0m \u001b[0malpha\u001b[0m\u001b[0;34m=\u001b[0m\u001b[0malpha\u001b[0m\u001b[0;34m,\u001b[0m \u001b[0mlinewidths\u001b[0m\u001b[0;34m=\u001b[0m\u001b[0mlinewidths\u001b[0m\u001b[0;34m,\u001b[0m\u001b[0;34m\u001b[0m\u001b[0;34m\u001b[0m\u001b[0m\n\u001b[1;32m   2861\u001b[0m         verts=verts, edgecolors=edgecolors, **({\"data\": data} if data\n\u001b[0;32m-> 2862\u001b[0;31m         is not None else {}), **kwargs)\n\u001b[0m\u001b[1;32m   2863\u001b[0m     \u001b[0msci\u001b[0m\u001b[0;34m(\u001b[0m\u001b[0m__ret\u001b[0m\u001b[0;34m)\u001b[0m\u001b[0;34m\u001b[0m\u001b[0;34m\u001b[0m\u001b[0m\n\u001b[1;32m   2864\u001b[0m     \u001b[0;32mreturn\u001b[0m \u001b[0m__ret\u001b[0m\u001b[0;34m\u001b[0m\u001b[0;34m\u001b[0m\u001b[0m\n",
      "\u001b[0;32m~/miniconda3/envs/idp/lib/python3.6/site-packages/matplotlib/__init__.py\u001b[0m in \u001b[0;36minner\u001b[0;34m(ax, data, *args, **kwargs)\u001b[0m\n\u001b[1;32m   1808\u001b[0m                         \u001b[0;34m\"the Matplotlib list!)\"\u001b[0m \u001b[0;34m%\u001b[0m \u001b[0;34m(\u001b[0m\u001b[0mlabel_namer\u001b[0m\u001b[0;34m,\u001b[0m \u001b[0mfunc\u001b[0m\u001b[0;34m.\u001b[0m\u001b[0m__name__\u001b[0m\u001b[0;34m)\u001b[0m\u001b[0;34m,\u001b[0m\u001b[0;34m\u001b[0m\u001b[0;34m\u001b[0m\u001b[0m\n\u001b[1;32m   1809\u001b[0m                         RuntimeWarning, stacklevel=2)\n\u001b[0;32m-> 1810\u001b[0;31m             \u001b[0;32mreturn\u001b[0m \u001b[0mfunc\u001b[0m\u001b[0;34m(\u001b[0m\u001b[0max\u001b[0m\u001b[0;34m,\u001b[0m \u001b[0;34m*\u001b[0m\u001b[0margs\u001b[0m\u001b[0;34m,\u001b[0m \u001b[0;34m**\u001b[0m\u001b[0mkwargs\u001b[0m\u001b[0;34m)\u001b[0m\u001b[0;34m\u001b[0m\u001b[0;34m\u001b[0m\u001b[0m\n\u001b[0m\u001b[1;32m   1811\u001b[0m \u001b[0;34m\u001b[0m\u001b[0m\n\u001b[1;32m   1812\u001b[0m         inner.__doc__ = _add_data_doc(inner.__doc__,\n",
      "\u001b[0;32m~/miniconda3/envs/idp/lib/python3.6/site-packages/matplotlib/axes/_axes.py\u001b[0m in \u001b[0;36mscatter\u001b[0;34m(self, x, y, s, c, marker, cmap, norm, vmin, vmax, alpha, linewidths, verts, edgecolors, **kwargs)\u001b[0m\n\u001b[1;32m   4180\u001b[0m         \u001b[0my\u001b[0m \u001b[0;34m=\u001b[0m \u001b[0mnp\u001b[0m\u001b[0;34m.\u001b[0m\u001b[0mma\u001b[0m\u001b[0;34m.\u001b[0m\u001b[0mravel\u001b[0m\u001b[0;34m(\u001b[0m\u001b[0my\u001b[0m\u001b[0;34m)\u001b[0m\u001b[0;34m\u001b[0m\u001b[0;34m\u001b[0m\u001b[0m\n\u001b[1;32m   4181\u001b[0m         \u001b[0;32mif\u001b[0m \u001b[0mx\u001b[0m\u001b[0;34m.\u001b[0m\u001b[0msize\u001b[0m \u001b[0;34m!=\u001b[0m \u001b[0my\u001b[0m\u001b[0;34m.\u001b[0m\u001b[0msize\u001b[0m\u001b[0;34m:\u001b[0m\u001b[0;34m\u001b[0m\u001b[0;34m\u001b[0m\u001b[0m\n\u001b[0;32m-> 4182\u001b[0;31m             \u001b[0;32mraise\u001b[0m \u001b[0mValueError\u001b[0m\u001b[0;34m(\u001b[0m\u001b[0;34m\"x and y must be the same size\"\u001b[0m\u001b[0;34m)\u001b[0m\u001b[0;34m\u001b[0m\u001b[0;34m\u001b[0m\u001b[0m\n\u001b[0m\u001b[1;32m   4183\u001b[0m \u001b[0;34m\u001b[0m\u001b[0m\n\u001b[1;32m   4184\u001b[0m         \u001b[0;32mif\u001b[0m \u001b[0ms\u001b[0m \u001b[0;32mis\u001b[0m \u001b[0;32mNone\u001b[0m\u001b[0;34m:\u001b[0m\u001b[0;34m\u001b[0m\u001b[0;34m\u001b[0m\u001b[0m\n",
      "\u001b[0;31mValueError\u001b[0m: x and y must be the same size"
     ]
    }
   ],
   "source": [
    "x_predicted = np.random.uniform(-1, 1, 200)\n",
    "y_predicted = model.predict(x_predicted)\n",
    "plt.scatter(x_predicted, y_predicted,color='r')\n",
    "plt.plot(x_valid, y_target)\n",
    "plt.grid(True)\n",
    "plt.show()"
   ]
  },
  {
   "cell_type": "code",
   "execution_count": null,
   "metadata": {},
   "outputs": [],
   "source": []
  }
 ],
 "metadata": {
  "kernelspec": {
   "display_name": "Python 3",
   "language": "python",
   "name": "python3"
  },
  "language_info": {
   "codemirror_mode": {
    "name": "ipython",
    "version": 3
   },
   "file_extension": ".py",
   "mimetype": "text/x-python",
   "name": "python",
   "nbconvert_exporter": "python",
   "pygments_lexer": "ipython3",
   "version": "3.6.8"
  }
 },
 "nbformat": 4,
 "nbformat_minor": 2
}
